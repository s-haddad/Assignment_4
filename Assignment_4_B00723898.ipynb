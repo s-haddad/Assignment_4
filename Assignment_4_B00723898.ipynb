{
 "cells": [
  {
   "cell_type": "code",
   "execution_count": null,
   "metadata": {},
   "outputs": [],
   "source": [
    "install.packages(\"waffle\")\n",
    "install.packages(\"extrafont\")"
   ]
  },
  {
   "cell_type": "code",
   "execution_count": null,
   "metadata": {},
   "outputs": [],
   "source": [
    "library(waffle)\n",
    "library(extrafont)"
   ]
  },
  {
   "cell_type": "code",
   "execution_count": null,
   "metadata": {},
   "outputs": [],
   "source": [
    "ttf_import(paths = NULL, recursive = TRUE, pattern = NULL)"
   ]
  },
  {
   "cell_type": "code",
   "execution_count": null,
   "metadata": {},
   "outputs": [],
   "source": [
    "fonts()[grep(\"Awesome\", fonts())]"
   ]
  },
  {
   "cell_type": "code",
   "execution_count": null,
   "metadata": {},
   "outputs": [],
   "source": [
    "movies17 <- c(\n",
    "  `Jan-Mar\\n($2.508 billion)` = 2.5, `Apr-Jun\\n($2.940 billion)` = 3,\n",
    "  `Jul-Sep\\n($2.054 billion)` = 2, `Oct-Dec\\n($3.520 billion)` = 3.5)\n",
    "waffle(\n",
    "  movies17 / 0.25, rows = 3, size = 0.5, use_glyph = \"ticket\", glyph_size = 7, equal = TRUE, legend_pos = \"bottom\",\n",
    "  colors = c(\"#071954\", \"#538054\", \"#FFB635\", \"#C5271C\"),  title=\"Box Office Sales in 2017\", \n",
    "       xlab=\"One ticket == $250 million\") + theme(plot.title = element_text(size = 7), axis.title.x=element_text(size = 6), text=element_text(size = 6))"
   ]
  },
  {
   "cell_type": "code",
   "execution_count": null,
   "metadata": {},
   "outputs": [],
   "source": [
    "pdf(\"assign4.pdf\",useDingbats=FALSE,width=3.5,height=2,family='Helvetica')\n",
    "movies17 <- c(\n",
    "  `Jan-Mar\\n($2.508 billion)` = 2.5, `Apr-Jun\\n($2.940 billion)` = 3,\n",
    "  `Jul-Sep\\n($2.054 billion)` = 2, `Oct-Dec\\n($3.520 billion)` = 3.5)\n",
    "waffle(\n",
    "  movies17 / 0.25, rows = 3, size = 0.5, use_glyph = \"ticket\", glyph_size = 7, equal = TRUE, legend_pos = \"bottom\",\n",
    "  colors = c(\"#071954\", \"#538054\", \"#FFB635\", \"#C5271C\"),  title=\"Box Office Sales in 2017\", \n",
    "       xlab=\"One ticket == $250 million\") + theme(plot.title = element_text(size = 7), axis.title.x=element_text(size = 6), text=element_text(size = 6))\n",
    "dev.off()\n",
    "embedFonts('assign4.pdf')"
   ]
  }
 ],
 "metadata": {
  "kernelspec": {
   "display_name": "R",
   "language": "R",
   "name": "ir"
  },
  "language_info": {
   "codemirror_mode": "r",
   "file_extension": ".r",
   "mimetype": "text/x-r-source",
   "name": "R",
   "pygments_lexer": "r",
   "version": "3.5.1"
  }
 },
 "nbformat": 4,
 "nbformat_minor": 2
}
